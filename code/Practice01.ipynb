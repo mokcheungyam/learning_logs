{
 "cells": [
  {
   "cell_type": "code",
   "execution_count": 3,
   "metadata": {},
   "outputs": [],
   "source": [
    "# Python如何实现单例模式？\n",
    "\n",
    "# 1.使用__new__()\n",
    "class Singleton:\n",
    "    def __new__(cls, *args, **kwargs):\n",
    "        if not hasattr(cls, '_instance'):\n",
    "            cls._instance = super(Singleton, cls).__new__(cls, *args, **kwargs)\n",
    "        return cls._instance\n",
    "\n",
    "    \n",
    "# 2.使用装饰器\n",
    "def singleton(cls):\n",
    "    instances = {}\n",
    "    def get_instance(*args, **kwargs):\n",
    "        if cls not in instances:\n",
    "            instances[cls] = cls(*args, **kwargs)\n",
    "        return instances[cls]\n",
    "    return get_instance\n",
    "\n",
    "\n",
    "@singleton\n",
    "class MyClass:\n",
    "    a = 1\n",
    "\n",
    "\n",
    "# 3.使用元类\n",
    "class Singleton2(type):\n",
    "    def __init__(self, *args, **kwargs):\n",
    "        self._instance = None\n",
    "        super(Singleton2, cls).__init__(*args, **kwargs)\n",
    "    \n",
    "    def __call__(self, *args, **kwargs):\n",
    "        if self._instance is None:\n",
    "            self._instance = super(Singleton2, self).__call__(*args, **kwargs)\n",
    "            \n",
    "        return self._instance"
   ]
  },
  {
   "cell_type": "code",
   "execution_count": 21,
   "metadata": {},
   "outputs": [],
   "source": [
    "# 什么是lambda函数？\n",
    "\n",
    "def sum(x, y):\n",
    "    return x + y\n",
    "\n",
    "p = lambda x, y: x + y"
   ]
  },
  {
   "cell_type": "code",
   "execution_count": 20,
   "metadata": {},
   "outputs": [
    {
     "data": {
      "text/plain": [
       "5"
      ]
     },
     "execution_count": 20,
     "metadata": {},
     "output_type": "execute_result"
    }
   ],
   "source": [
    "p(2, 3)"
   ]
  },
  {
   "cell_type": "code",
   "execution_count": 22,
   "metadata": {},
   "outputs": [],
   "source": [
    "p2 = lambda x: x * x"
   ]
  },
  {
   "cell_type": "code",
   "execution_count": 23,
   "metadata": {},
   "outputs": [
    {
     "data": {
      "text/plain": [
       "36"
      ]
     },
     "execution_count": 23,
     "metadata": {},
     "output_type": "execute_result"
    }
   ],
   "source": [
    "p2(6)"
   ]
  },
  {
   "cell_type": "code",
   "execution_count": 24,
   "metadata": {},
   "outputs": [],
   "source": [
    "p3 = lambda x, y, z: (x + 8) * (y - z)"
   ]
  },
  {
   "cell_type": "code",
   "execution_count": 25,
   "metadata": {},
   "outputs": [
    {
     "data": {
      "text/plain": [
       "171"
      ]
     },
     "execution_count": 25,
     "metadata": {},
     "output_type": "execute_result"
    }
   ],
   "source": [
    "p3(1, 23, 4)"
   ]
  },
  {
   "cell_type": "code",
   "execution_count": 34,
   "metadata": {},
   "outputs": [
    {
     "name": "stdout",
     "output_type": "stream",
     "text": [
      "[5, 4, 3, 2, 1]\n",
      "[5, 4, 3, 2, 1]\n",
      "[5, 4, 3, 2, 1]\n"
     ]
    }
   ],
   "source": [
    "# 如何逆序迭代一个序列？\n",
    "\n",
    "# 1.切片\n",
    "a = [1, 2, 3, 4, 5]\n",
    "b = a[::-1]\n",
    "print(b)\n",
    "\n",
    "# 2.遍历\n",
    "c = []\n",
    "for i in range(len(a)-1, -1, -1):\n",
    "    c.append(a[i])\n",
    "print(c)\n",
    "\n",
    "# 3.reversed()函数\n",
    "d = list(reversed(a))\n",
    "print(d)"
   ]
  },
  {
   "cell_type": "code",
   "execution_count": 41,
   "metadata": {},
   "outputs": [
    {
     "name": "stdout",
     "output_type": "stream",
     "text": [
      "91\n",
      "78.35032140798154\n",
      "0.840553488035852\n",
      "445\n"
     ]
    }
   ],
   "source": [
    "# Python如何生成随机数？\n",
    "\n",
    "# 1.导入random包\n",
    "import random\n",
    "\n",
    "a = random.randint(66, 99)  # 指定范围内随机整数\n",
    "print(a)\n",
    "\n",
    "b = random.uniform(66, 99)  # 指定范围内随机小数\n",
    "print(b)\n",
    "\n",
    "c = random.random()  # 0～1内随机小数\n",
    "print(c)\n",
    "\n",
    "nums = [135, 445, 567, 699, 666]  # 指定范围内随机选项\n",
    "d = random.choice(nums)\n",
    "print(d)"
   ]
  },
  {
   "cell_type": "code",
   "execution_count": null,
   "metadata": {},
   "outputs": [],
   "source": []
  }
 ],
 "metadata": {
  "kernelspec": {
   "display_name": "Python 3",
   "language": "python",
   "name": "python3"
  },
  "language_info": {
   "codemirror_mode": {
    "name": "ipython",
    "version": 3
   },
   "file_extension": ".py",
   "mimetype": "text/x-python",
   "name": "python",
   "nbconvert_exporter": "python",
   "pygments_lexer": "ipython3",
   "version": "3.8.2"
  }
 },
 "nbformat": 4,
 "nbformat_minor": 4
}
