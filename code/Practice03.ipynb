{
 "cells": [
  {
   "cell_type": "code",
   "execution_count": 18,
   "metadata": {},
   "outputs": [
    {
     "name": "stdout",
     "output_type": "stream",
     "text": [
      "[1, 2, 3, 4, 4, 5, 5, 6]\n",
      "[1, 2, 3, 4, 5, 6]\n",
      "[1, 2, 3, 4, 5, 6]\n",
      "[1, 2, 3, 4, 4, 5, 5, 6]\n",
      "test [1, 2, 3, 4, 5, 6]\n"
     ]
    }
   ],
   "source": [
    "# 1.一段代码删除一个list里面的重复元素\n",
    "nums = [1, 2, 3, 4, 4, 5, 5, 6]\n",
    "res = list(set(nums))\n",
    "print(nums)\n",
    "print(res)\n",
    "\n",
    "b = {}\n",
    "b = b.fromkeys(nums)\n",
    "c = list(b.keys())\n",
    "print(c)\n",
    "\n",
    "def delList(L):\n",
    "    L1 = []\n",
    "    for i in L:\n",
    "        if i not in L1:\n",
    "            L1.append(i)\n",
    "    return L1\n",
    "delList(nums)\n",
    "\n",
    "print(nums)\n",
    "d = []\n",
    "[d.append(i) for i in nums if not i in d]\n",
    "print('test', d)"
   ]
  },
  {
   "cell_type": "code",
   "execution_count": null,
   "metadata": {},
   "outputs": [],
   "source": [
    "# 3.Python中如何拷贝一个对象？\n",
    "# 赋值，创建对象的一个新的引用，修改任意一个变量都会影响到另一个\n",
    "# 浅拷贝，创建一个新的对象，但是包含的是原对象中各项的引用\n",
    "# 深拷贝，完完全全重构一个一样的对象"
   ]
  },
  {
   "cell_type": "code",
   "execution_count": 25,
   "metadata": {},
   "outputs": [],
   "source": [
    "# 4.match()和search()区别？\n",
    "# match()是从头开始匹配\n",
    "# search()是找到第一个匹配处返回"
   ]
  },
  {
   "cell_type": "code",
   "execution_count": null,
   "metadata": {},
   "outputs": [],
   "source": [
    "# 5.<.*>和<.*?>的区别\n",
    "# 前者为贪婪，后者为非贪婪\n",
    "# Python中正则表达式的数量词（\\d,' * '等）默认是贪婪的，在匹配成功的前提下，\n",
    "# 它总是尝试匹配尽可能多的字符，非贪婪模式正好相反，它总是尝试匹配尽可能少的字符"
   ]
  },
  {
   "cell_type": "code",
   "execution_count": 27,
   "metadata": {},
   "outputs": [
    {
     "name": "stdout",
     "output_type": "stream",
     "text": [
      "<class 'set'>\n"
     ]
    }
   ],
   "source": [
    "a = {1, 2, 3, 4}\n",
    "print(type(a))"
   ]
  },
  {
   "cell_type": "code",
   "execution_count": null,
   "metadata": {},
   "outputs": [],
   "source": []
  }
 ],
 "metadata": {
  "kernelspec": {
   "display_name": "Python 3",
   "language": "python",
   "name": "python3"
  },
  "language_info": {
   "codemirror_mode": {
    "name": "ipython",
    "version": 3
   },
   "file_extension": ".py",
   "mimetype": "text/x-python",
   "name": "python",
   "nbconvert_exporter": "python",
   "pygments_lexer": "ipython3",
   "version": "3.8.2"
  }
 },
 "nbformat": 4,
 "nbformat_minor": 4
}
