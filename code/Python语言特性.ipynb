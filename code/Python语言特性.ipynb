{
 "cells": [
  {
   "cell_type": "markdown",
   "metadata": {},
   "source": [
    "### 异常\n",
    "```python\n",
    "try:\n",
    "    pass  # <statements>\n",
    "except exception1:\n",
    "    pass  # <statements>\n",
    "except exception2:\n",
    "    pass  # <statements>\n",
    "else:\n",
    "    pass\n",
    "finally:\n",
    "    pass\n",
    "```\n",
    "\n",
    "except分句会捕捉try代码块执行时所发生的任何异常，而else只有在无异常时执行，finally无论有没有异常都会执行"
   ]
  },
  {
   "cell_type": "markdown",
   "metadata": {},
   "source": [
    "### Python函数参数传递"
   ]
  },
  {
   "cell_type": "code",
   "execution_count": 5,
   "metadata": {},
   "outputs": [
    {
     "name": "stdout",
     "output_type": "stream",
     "text": [
      "1\n"
     ]
    }
   ],
   "source": [
    "a = 1\n",
    "def fun(a):\n",
    "    a = 2\n",
    "fun(a)\n",
    "print(a)"
   ]
  },
  {
   "cell_type": "code",
   "execution_count": 7,
   "metadata": {},
   "outputs": [
    {
     "name": "stdout",
     "output_type": "stream",
     "text": [
      "[1]\n"
     ]
    }
   ],
   "source": [
    "a = []\n",
    "def fun(a):\n",
    "    a.append(1)\n",
    "fun(a)\n",
    "print(a)"
   ]
  },
  {
   "cell_type": "markdown",
   "metadata": {},
   "source": [
    "所有变量都可以理解为内存中对象的引用"
   ]
  },
  {
   "cell_type": "code",
   "execution_count": 12,
   "metadata": {},
   "outputs": [
    {
     "name": "stdout",
     "output_type": "stream",
     "text": [
      "func_out3 4421450400 4421450400\n",
      "func_in1 4421450400\n",
      "re-point2 4421450432 4421450432\n",
      "1\n"
     ]
    }
   ],
   "source": [
    "a = 1\n",
    "def fun(a):\n",
    "    print('func_in1', id(a))\n",
    "    a = 2\n",
    "    print('re-point2', id(a), id(2))\n",
    "\n",
    "print('func_out3', id(a), id(1))\n",
    "fun(a)\n",
    "print(a)"
   ]
  },
  {
   "cell_type": "markdown",
   "metadata": {},
   "source": [
    "### @staticmethod和@classmethod"
   ]
  },
  {
   "cell_type": "code",
   "execution_count": 17,
   "metadata": {},
   "outputs": [],
   "source": [
    "def foo(x):\n",
    "    print(\"executing foo(%s)\"%(x))\n",
    "    \n",
    "class A(object):\n",
    "    def foo(self,x ):\n",
    "        print(\"executing foo(%s,%s)\"%(self,x))\n",
    "\n",
    "    @classmethod\n",
    "    def class_foo(cls,x):\n",
    "        print(\"executing class_foo(%s,%s)\"%(cls,x))\n",
    "\n",
    "    @staticmethod\n",
    "    def static_foo(x):\n",
    "        print(\"executing static_foo(%s)\"%x)\n",
    "\n",
    "a =A ()"
   ]
  },
  {
   "cell_type": "code",
   "execution_count": 18,
   "metadata": {},
   "outputs": [
    {
     "data": {
      "text/plain": [
       "<__main__.A at 0x7ff246a56be0>"
      ]
     },
     "execution_count": 18,
     "metadata": {},
     "output_type": "execute_result"
    }
   ],
   "source": [
    "a"
   ]
  },
  {
   "cell_type": "markdown",
   "metadata": {},
   "source": [
    "### 类变量和实例变量\n",
    "**类变量**\n",
    "\n",
    ">可以类的所有实例之间共享\n",
    "\n",
    "**实例变量**\n",
    "\n",
    ">实例中单独拥有的变量"
   ]
  },
  {
   "cell_type": "code",
   "execution_count": 19,
   "metadata": {},
   "outputs": [],
   "source": [
    "class Test:\n",
    "    num_of_instance = 0\n",
    "    def __init__(self, name):\n",
    "        self.name = name\n",
    "        Test.num_of_instance += 1"
   ]
  },
  {
   "cell_type": "code",
   "execution_count": 20,
   "metadata": {},
   "outputs": [
    {
     "data": {
      "text/plain": [
       "0"
      ]
     },
     "execution_count": 20,
     "metadata": {},
     "output_type": "execute_result"
    }
   ],
   "source": [
    "Test.num_of_instance"
   ]
  },
  {
   "cell_type": "code",
   "execution_count": 21,
   "metadata": {},
   "outputs": [
    {
     "data": {
      "text/plain": [
       "1"
      ]
     },
     "execution_count": 21,
     "metadata": {},
     "output_type": "execute_result"
    }
   ],
   "source": [
    "t1 = Test('mok')\n",
    "Test.num_of_instance"
   ]
  },
  {
   "cell_type": "code",
   "execution_count": 22,
   "metadata": {},
   "outputs": [
    {
     "data": {
      "text/plain": [
       "2"
      ]
     },
     "execution_count": 22,
     "metadata": {},
     "output_type": "execute_result"
    }
   ],
   "source": [
    "t2 = Test('cheung')\n",
    "Test.num_of_instance"
   ]
  },
  {
   "cell_type": "code",
   "execution_count": 23,
   "metadata": {},
   "outputs": [],
   "source": [
    "class Person:\n",
    "    name = 'aa'"
   ]
  },
  {
   "cell_type": "code",
   "execution_count": 24,
   "metadata": {},
   "outputs": [
    {
     "name": "stdout",
     "output_type": "stream",
     "text": [
      "bb\n",
      "aa\n"
     ]
    }
   ],
   "source": [
    "p1 = Person()\n",
    "p2 = Person()\n",
    "\n",
    "p1.name = 'bb'\n",
    "\n",
    "print(p1.name)\n",
    "print(p2.name)"
   ]
  },
  {
   "cell_type": "markdown",
   "metadata": {},
   "source": [
    "### Python自省\n",
    "\n",
    "自省指的是，面向对象的语言在运行时可以获得对象的类型，Python中可以使用type()、dir()、getattr()、hasattr()、isinstance()"
   ]
  },
  {
   "cell_type": "code",
   "execution_count": 26,
   "metadata": {},
   "outputs": [],
   "source": [
    "a = [1, 2, 3]\n",
    "b = {'a':1, 'b':2}\n",
    "c = True"
   ]
  },
  {
   "cell_type": "code",
   "execution_count": 27,
   "metadata": {},
   "outputs": [
    {
     "data": {
      "text/plain": [
       "(list, dict, bool)"
      ]
     },
     "execution_count": 27,
     "metadata": {},
     "output_type": "execute_result"
    }
   ],
   "source": [
    "type(a), type(b), type(c)"
   ]
  },
  {
   "cell_type": "code",
   "execution_count": 28,
   "metadata": {},
   "outputs": [
    {
     "data": {
      "text/plain": [
       "True"
      ]
     },
     "execution_count": 28,
     "metadata": {},
     "output_type": "execute_result"
    }
   ],
   "source": [
    "isinstance(a, list)"
   ]
  },
  {
   "cell_type": "markdown",
   "metadata": {},
   "source": [
    "### 字典推导式"
   ]
  },
  {
   "cell_type": "code",
   "execution_count": 32,
   "metadata": {},
   "outputs": [
    {
     "data": {
      "text/plain": [
       "{1: 'a', 2: 'b'}"
      ]
     },
     "execution_count": 32,
     "metadata": {},
     "output_type": "execute_result"
    }
   ],
   "source": [
    "nums = [[1, 'a'],[2, 'b']]\n",
    "d = {k: v for (k, v) in nums}\n",
    "d"
   ]
  },
  {
   "cell_type": "markdown",
   "metadata": {},
   "source": [
    "### 字符串格式化: %和.format"
   ]
  },
  {
   "cell_type": "code",
   "execution_count": 36,
   "metadata": {},
   "outputs": [
    {
     "name": "stdout",
     "output_type": "stream",
     "text": [
      "hi there is mok\n",
      "hi there is (1, 2, 3)\n"
     ]
    }
   ],
   "source": [
    "a = 'mok'\n",
    "b = (1, 2, 3)\n",
    "print('hi there is %s' % a)  # 一一对应\n",
    "print('hi there is {}'.format(b))  # 自动转换"
   ]
  },
  {
   "cell_type": "code",
   "execution_count": 37,
   "metadata": {},
   "outputs": [
    {
     "data": {
      "text/plain": [
       "list"
      ]
     },
     "execution_count": 37,
     "metadata": {},
     "output_type": "execute_result"
    }
   ],
   "source": [
    "L = [x*x for x in range(10)]\n",
    "type(L)"
   ]
  },
  {
   "cell_type": "code",
   "execution_count": 38,
   "metadata": {},
   "outputs": [
    {
     "data": {
      "text/plain": [
       "[0, 1, 4, 9, 16, 25, 36, 49, 64, 81]"
      ]
     },
     "execution_count": 38,
     "metadata": {},
     "output_type": "execute_result"
    }
   ],
   "source": [
    "L"
   ]
  },
  {
   "cell_type": "code",
   "execution_count": 40,
   "metadata": {},
   "outputs": [
    {
     "data": {
      "text/plain": [
       "generator"
      ]
     },
     "execution_count": 40,
     "metadata": {},
     "output_type": "execute_result"
    }
   ],
   "source": [
    "G = (x*x for x in range(10))\n",
    "type(G)"
   ]
  },
  {
   "cell_type": "code",
   "execution_count": 41,
   "metadata": {},
   "outputs": [
    {
     "data": {
      "text/plain": [
       "<generator object <genexpr> at 0x7ff24820a040>"
      ]
     },
     "execution_count": 41,
     "metadata": {},
     "output_type": "execute_result"
    }
   ],
   "source": [
    "G"
   ]
  },
  {
   "cell_type": "code",
   "execution_count": 45,
   "metadata": {},
   "outputs": [
    {
     "name": "stdout",
     "output_type": "stream",
     "text": [
      "4\n",
      "9\n",
      "16\n",
      "25\n",
      "36\n",
      "49\n",
      "64\n",
      "81\n"
     ]
    }
   ],
   "source": [
    "for x in G:\n",
    "    print(x)"
   ]
  },
  {
   "cell_type": "markdown",
   "metadata": {},
   "source": [
    "### \\*args和\\**kwargs"
   ]
  },
  {
   "cell_type": "code",
   "execution_count": 66,
   "metadata": {},
   "outputs": [],
   "source": [
    "# 不确定参数时可以使用*args，变成元组传入\n",
    "def print_everything(*args):\n",
    "    print(type(args))\n",
    "    print(args)\n",
    "    print(*args)\n",
    "    for count, thing in enumerate(args):\n",
    "        print('{0}-{1}'.format(count, thing))"
   ]
  },
  {
   "cell_type": "code",
   "execution_count": 49,
   "metadata": {},
   "outputs": [
    {
     "name": "stdout",
     "output_type": "stream",
     "text": [
      "<class 'tuple'>\n",
      "0-appe\n",
      "1-gucci\n",
      "2-lv\n"
     ]
    }
   ],
   "source": [
    "print_everything('appe', 'gucci', 'lv')"
   ]
  },
  {
   "cell_type": "code",
   "execution_count": 53,
   "metadata": {},
   "outputs": [],
   "source": [
    "# **kwargs允许使用没有事先定义的参数名\n",
    "def table_things(**kwargs):\n",
    "    for k, v in kwargs.items():\n",
    "        print('{0}={1}'.format(k, v))"
   ]
  },
  {
   "cell_type": "code",
   "execution_count": 55,
   "metadata": {},
   "outputs": [
    {
     "name": "stdout",
     "output_type": "stream",
     "text": [
      "apple=fruit\n",
      "cabbage=vegtable\n",
      "meat=1\n"
     ]
    }
   ],
   "source": [
    "table_things(apple='fruit', cabbage='vegtable', meat=1)"
   ]
  },
  {
   "cell_type": "code",
   "execution_count": 67,
   "metadata": {},
   "outputs": [
    {
     "name": "stdout",
     "output_type": "stream",
     "text": [
      "<class 'tuple'>\n",
      "(1, 2, 3)\n",
      "1 2 3\n",
      "0-1\n",
      "1-2\n",
      "2-3\n",
      "<class 'tuple'>\n",
      "([1, 2, 3],)\n",
      "[1, 2, 3]\n",
      "0-[1, 2, 3]\n"
     ]
    }
   ],
   "source": [
    "a = [1, 2, 3]\n",
    "print_everything(*a)  # *a可以分解，每一项作为元组中的元素，解包传递\n",
    "print_everything(a)  # a作为整体，作为元组中的列表元素，打包"
   ]
  },
  {
   "cell_type": "markdown",
   "metadata": {},
   "source": [
    "### 面向切面编程与装饰器\n",
    "\n",
    "装饰器作用就是为已经存在的对象添加额外的功能，作为有切面编程需求的解决方法，常用的功能有日志的插入、性能测试、事务处理以及权限验证等，可以抽离大量函数中与功能本身无关的代码继续重用。"
   ]
  },
  {
   "cell_type": "markdown",
   "metadata": {},
   "source": [
    "### 为什么Python不支持重载？\n",
    "\n",
    "重载主要为了解决的问题:\n",
    "1.可变参数的类型\n",
    "2.可变参数的个数\n",
    "\n",
    "基本的设计原则，仅仅但两个函数除了参数类型和参数不同之外，其他功能相同，才需要使用函数重载，如果两个函数功能不同，那么应该使用另一个名字不同的函数\n",
    "\n",
    "对于情况一，由于Python可以接受任何类型的参数，如果功能相同，无需做成两个不同的函数\n",
    "对于情况二，Python可以使用缺省参数来解决函数功能相同，但参数个数不同的问题"
   ]
  },
  {
   "cell_type": "markdown",
   "metadata": {},
   "source": [
    "### 类继承查找的顺序"
   ]
  },
  {
   "cell_type": "code",
   "execution_count": 69,
   "metadata": {},
   "outputs": [
    {
     "name": "stdout",
     "output_type": "stream",
     "text": [
      "(<class '__main__.A'>, <class 'object'>)\n"
     ]
    }
   ],
   "source": [
    "class A:\n",
    "    pass\n",
    "print(A.__mro__)  # 可以查看继承顺序"
   ]
  },
  {
   "cell_type": "markdown",
   "metadata": {},
   "source": [
    "### 单例模式\n",
    "\n",
    "常见设计模式，核心结构只包含一个被称为单例类的特殊类，保证系统中一个类只有一个实例而且该实例易于外界访问，从而方便对实例个数的控制以节约系统资源。"
   ]
  },
  {
   "cell_type": "code",
   "execution_count": 104,
   "metadata": {},
   "outputs": [],
   "source": [
    "# 1.使用__new__实现\n",
    "class Singleton(object):\n",
    "    def __new__(cls, *args, **kwargs):\n",
    "        if not hasattr(cls, '_instance'):\n",
    "            origin = super(Singleton, cls)\n",
    "            cls._instance = origin.__new__(cls, *args, **kwargs)\n",
    "        return cls._instance\n",
    "\n",
    "class MyClass(Singleton):\n",
    "    a = 1"
   ]
  },
  {
   "cell_type": "code",
   "execution_count": 108,
   "metadata": {},
   "outputs": [
    {
     "name": "stdout",
     "output_type": "stream",
     "text": [
      "1\n",
      "1\n",
      "140678569614880 140678569614880\n"
     ]
    }
   ],
   "source": [
    "myclass1 = MyClass()\n",
    "print(myclass1.a)\n",
    "myclass2 = MyClass()\n",
    "print(myclass2.a)\n",
    "print(id(myclass1), id(myclass2))"
   ]
  },
  {
   "cell_type": "code",
   "execution_count": 116,
   "metadata": {},
   "outputs": [],
   "source": [
    "# 2.共享属性实现\n",
    "class Borg:\n",
    "    _state = {}\n",
    "    def __new__(cls, *args, **kwargs):\n",
    "        instance = super(Borg, cls).__new__(cls, *args, **kwargs)\n",
    "        instance.__dict__ = cls._state\n",
    "        return instance\n",
    "\n",
    "    \n",
    "class MyClass2(Borg):\n",
    "    b = 2"
   ]
  },
  {
   "cell_type": "code",
   "execution_count": 115,
   "metadata": {},
   "outputs": [
    {
     "name": "stdout",
     "output_type": "stream",
     "text": [
      "2\n",
      "2\n",
      "140678569131264 140678570243408\n"
     ]
    }
   ],
   "source": [
    "myclass1 = MyClass2()\n",
    "print(myclass1.b)\n",
    "myclass2 = MyClass2()\n",
    "print(myclass2.b)\n",
    "print(id(myclass1), id(myclass2))"
   ]
  },
  {
   "cell_type": "code",
   "execution_count": 120,
   "metadata": {},
   "outputs": [],
   "source": [
    "# 3.装饰器实现\n",
    "def singleton(cls):\n",
    "    instances = {}\n",
    "    def get_instance(*args, **kwargs):\n",
    "        if cls not in instances:\n",
    "            instances[cls] = cls(*args, **kwargs)\n",
    "        return instances[cls]\n",
    "    return get_instance\n",
    "\n",
    "@singleton\n",
    "class MyClass3():\n",
    "    c = 3"
   ]
  },
  {
   "cell_type": "code",
   "execution_count": 121,
   "metadata": {},
   "outputs": [
    {
     "name": "stdout",
     "output_type": "stream",
     "text": [
      "3\n",
      "3\n",
      "140678571234784 140678571234784\n"
     ]
    }
   ],
   "source": [
    "myclass1 = MyClass3()\n",
    "print(myclass1.c)\n",
    "myclass2 = MyClass3()\n",
    "print(myclass2.c)\n",
    "print(id(myclass1), id(myclass2))"
   ]
  },
  {
   "cell_type": "code",
   "execution_count": 123,
   "metadata": {},
   "outputs": [],
   "source": [
    "# 4.import模块方法--Python模块是天然的单例模式\n",
    "# class My_Singleton:\n",
    "#     def foo(self):\n",
    "#         pass\n",
    "# my_singleton = My_Singleton()\n",
    "# mysingleton.py\n",
    "# from mysingleton import my_singleton\n",
    "# my_singleton.foo()"
   ]
  },
  {
   "cell_type": "markdown",
   "metadata": {},
   "source": [
    "### Python中的作用域\n",
    "Python中，一个变量的作用域由代码中指定的地方所决定，遵循以下顺序进行搜索：Local(本地)-->Enclosing locals(当前作用域被嵌入的本地作用域)-->Global(全局作用域)-->Built-in(内置作用域)"
   ]
  },
  {
   "cell_type": "markdown",
   "metadata": {},
   "source": [
    "### GIL\n",
    "CPython解释器为保证线程安全而采取的线程独立运行限制，即同一时间只有一个线程在运行，对于IO密集型任务，多线程可以提高性能，但是对于CPU密集型任务，由于无法利用多核，因此性能会打折扣。可以使用多进程加协程减小切换代价来提升性能。"
   ]
  },
  {
   "cell_type": "markdown",
   "metadata": {},
   "source": [
    "### 闭包\n",
    "闭包(closure)是一种组织代码的结构，提高了代码的可复用性。\n",
    "\n",
    "一个闭包需要满足以下几点：\n",
    "\n",
    "1.内嵌函数\n",
    "\n",
    "2.内嵌函数引用外部变量\n",
    "\n",
    "3.外部函数返回值必须是内嵌函数"
   ]
  },
  {
   "cell_type": "code",
   "execution_count": 5,
   "metadata": {},
   "outputs": [],
   "source": [
    "class tracer:\n",
    "    def __init__(self, func):\n",
    "        self.calls = 0\n",
    "        self.func = func\n",
    "    \n",
    "    def __call__(self, *args):\n",
    "        self.calls += 1\n",
    "        print('call %s to %s' % (self.calls, self.func.__name__))\n",
    "        self.func(*args)\n",
    "    "
   ]
  },
  {
   "cell_type": "code",
   "execution_count": 6,
   "metadata": {},
   "outputs": [],
   "source": [
    "@tracer\n",
    "def spam(a, b, c):\n",
    "    print(a + b + c)"
   ]
  },
  {
   "cell_type": "code",
   "execution_count": 7,
   "metadata": {},
   "outputs": [
    {
     "name": "stdout",
     "output_type": "stream",
     "text": [
      "call 1 to spam\n",
      "6\n"
     ]
    }
   ],
   "source": [
    "spam(1, 2, 3)"
   ]
  },
  {
   "cell_type": "code",
   "execution_count": 8,
   "metadata": {},
   "outputs": [
    {
     "name": "stdout",
     "output_type": "stream",
     "text": [
      "call 2 to spam\n",
      "abc\n"
     ]
    }
   ],
   "source": [
    "spam('a', 'b', 'c')"
   ]
  },
  {
   "cell_type": "code",
   "execution_count": 9,
   "metadata": {},
   "outputs": [
    {
     "data": {
      "text/plain": [
       "2"
      ]
     },
     "execution_count": 9,
     "metadata": {},
     "output_type": "execute_result"
    }
   ],
   "source": [
    "spam.calls"
   ]
  },
  {
   "cell_type": "code",
   "execution_count": 11,
   "metadata": {},
   "outputs": [
    {
     "name": "stdout",
     "output_type": "stream",
     "text": [
      "call 4 to spam\n",
      "123\n"
     ]
    }
   ],
   "source": [
    "spam('1', '2', '3')  # 就算报错了也会加一次"
   ]
  },
  {
   "cell_type": "markdown",
   "metadata": {},
   "source": [
    "### Lambda函数"
   ]
  },
  {
   "cell_type": "code",
   "execution_count": 13,
   "metadata": {},
   "outputs": [],
   "source": [
    "a = map(lambda x: x*x, [y for y in range(10)])"
   ]
  },
  {
   "cell_type": "code",
   "execution_count": 18,
   "metadata": {},
   "outputs": [
    {
     "data": {
      "text/plain": [
       "[0, 1, 4, 9, 16, 25, 36, 49, 64, 81]"
      ]
     },
     "execution_count": 18,
     "metadata": {},
     "output_type": "execute_result"
    }
   ],
   "source": [
    "list(a)"
   ]
  },
  {
   "cell_type": "markdown",
   "metadata": {},
   "source": [
    "### Python函数式编程\n",
    "\n",
    "map、filter函数的使用"
   ]
  },
  {
   "cell_type": "code",
   "execution_count": 1,
   "metadata": {},
   "outputs": [],
   "source": [
    "a = [1, 2, 3, 4, 5]"
   ]
  },
  {
   "cell_type": "code",
   "execution_count": 2,
   "metadata": {},
   "outputs": [],
   "source": [
    "b = filter(lambda x: x > 3, a)"
   ]
  },
  {
   "cell_type": "code",
   "execution_count": 4,
   "metadata": {},
   "outputs": [
    {
     "data": {
      "text/plain": [
       "[4, 5]"
      ]
     },
     "execution_count": 4,
     "metadata": {},
     "output_type": "execute_result"
    }
   ],
   "source": [
    "list(b)"
   ]
  },
  {
   "cell_type": "code",
   "execution_count": 5,
   "metadata": {},
   "outputs": [
    {
     "data": {
      "text/plain": [
       "[2, 4, 6]"
      ]
     },
     "execution_count": 5,
     "metadata": {},
     "output_type": "execute_result"
    }
   ],
   "source": [
    "a = map(lambda x: x*2, [1, 2, 3])\n",
    "list(a)"
   ]
  },
  {
   "cell_type": "markdown",
   "metadata": {},
   "source": [
    "### Python拷贝\n",
    "引用、copy()、deepcopy()的区别"
   ]
  },
  {
   "cell_type": "code",
   "execution_count": 7,
   "metadata": {},
   "outputs": [],
   "source": [
    "import copy"
   ]
  },
  {
   "cell_type": "code",
   "execution_count": 8,
   "metadata": {},
   "outputs": [],
   "source": [
    "a = [1, 2, 3, 4, ['a', 'b']]"
   ]
  },
  {
   "cell_type": "code",
   "execution_count": 9,
   "metadata": {},
   "outputs": [],
   "source": [
    "b = a"
   ]
  },
  {
   "cell_type": "code",
   "execution_count": 10,
   "metadata": {},
   "outputs": [],
   "source": [
    "c = copy.copy(a)"
   ]
  },
  {
   "cell_type": "code",
   "execution_count": 11,
   "metadata": {},
   "outputs": [],
   "source": [
    "d = copy.deepcopy(a)"
   ]
  },
  {
   "cell_type": "code",
   "execution_count": 12,
   "metadata": {},
   "outputs": [],
   "source": [
    "a.append(5)"
   ]
  },
  {
   "cell_type": "code",
   "execution_count": 13,
   "metadata": {},
   "outputs": [],
   "source": [
    "a[4].append('c')"
   ]
  },
  {
   "cell_type": "code",
   "execution_count": 14,
   "metadata": {},
   "outputs": [
    {
     "name": "stdout",
     "output_type": "stream",
     "text": [
      "a =  [1, 2, 3, 4, ['a', 'b', 'c'], 5]\n",
      "b =  [1, 2, 3, 4, ['a', 'b', 'c'], 5]\n",
      "c =  [1, 2, 3, 4, ['a', 'b', 'c']]\n",
      "d =  [1, 2, 3, 4, ['a', 'b']]\n"
     ]
    }
   ],
   "source": [
    "print('a = ', a)\n",
    "print('b = ', b)\n",
    "print('c = ', c)\n",
    "print('d = ', d)"
   ]
  },
  {
   "cell_type": "markdown",
   "metadata": {},
   "source": [
    "### Python垃圾回收机制\n",
    "主要使用引用计数来跟踪和回收垃圾，通过标记清除解决容器对象中可能出现的循环引用问题，通过分代回收以空间换时间的方法提高垃圾回收效率\n",
    "\n",
    "1.引用计数\n",
    "\n",
    "- PyObject，每个对象一定有\n",
    "- ob_refcnt，新增引用会增加，增加的情况包括：创建对象、引用对象、作为参数传入函数、作为元素被存储到容器；减少的情况包括：别名被销毁、别名被赋予新的对象、离开作用域、函数执行完成后、容器被销毁或容器中删除\n",
    "- ob_refcnt为0对象被删除\n",
    "\n",
    "2.标记清除\n",
    "\n",
    "- 分为两个阶段：标记阶段、清除阶段\n",
    "- 标记阶段会对所有活动对象标记，通过遍历对象形成的有向图，可达的即为活动对象\n",
    "- 清除阶段会对非活动对象清除，扫描整个内存，找到那些未被标记的对象\n",
    "\n",
    "3.分代技术\n",
    "\n",
    "- 将内存块按照存活时间分为不同的集合，每个集合称为一代，新创建的会放在0代，链表总数达到上限之后，触发垃圾回收机制，可回收的对象回收，其余的移到下一代中，依次类推"
   ]
  },
  {
   "cell_type": "code",
   "execution_count": null,
   "metadata": {},
   "outputs": [],
   "source": []
  }
 ],
 "metadata": {
  "kernelspec": {
   "display_name": "Python 3",
   "language": "python",
   "name": "python3"
  },
  "language_info": {
   "codemirror_mode": {
    "name": "ipython",
    "version": 3
   },
   "file_extension": ".py",
   "mimetype": "text/x-python",
   "name": "python",
   "nbconvert_exporter": "python",
   "pygments_lexer": "ipython3",
   "version": "3.8.2"
  }
 },
 "nbformat": 4,
 "nbformat_minor": 4
}
