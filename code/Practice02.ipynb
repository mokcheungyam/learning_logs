{
 "cells": [
  {
   "cell_type": "code",
   "execution_count": 1,
   "metadata": {},
   "outputs": [],
   "source": [
    "# OOP编程的特点是什么？多态应用的基础是什么？\n",
    "\n",
    "# 封装、继承、多态\n",
    "# 面向对象编程是为了代码可以得到重用，通过对代码进行分解，最小化冗余代码来定制性地编写程序，\n",
    "# 封装是将一个类的使用和实现分开，只保留部分接口和方法与外部联系\n",
    "# 继承是子类可以使用父类中的属性与方法，同时可以添加属性与重写方法，提高了代码的可重用性\n",
    "# 多态是多个子类中都具有同一个方法，但是由于实例化对象的不同而产生不同的结果，提高了程序的灵活性\n",
    "\n",
    "# 多态基于继承"
   ]
  },
  {
   "cell_type": "code",
   "execution_count": null,
   "metadata": {},
   "outputs": [],
   "source": [
    "# 抽象类和接口类之间的区别和联系？\n",
    "\n",
    "# 抽象类规定了继承类必须实现的方法，抽象类的方法称为抽象方法，无法实例化，只能被继承后通过子类实例化，\n",
    "# 如果说类是从一堆对象中抽取相同的内容而来的，那么抽象类就是从一堆类中抽取相同的内容而来的，内容包括数据属性和函数属性\n",
    "# 接口只强调函数属性的相似性，抽象类是一个介于类和接口直接的一个概念，同时具备类和接口的部分特性，可以用来实现归一化设计 "
   ]
  }
 ],
 "metadata": {
  "kernelspec": {
   "display_name": "Python 3",
   "language": "python",
   "name": "python3"
  },
  "language_info": {
   "codemirror_mode": {
    "name": "ipython",
    "version": 3
   },
   "file_extension": ".py",
   "mimetype": "text/x-python",
   "name": "python",
   "nbconvert_exporter": "python",
   "pygments_lexer": "ipython3",
   "version": "3.8.2"
  }
 },
 "nbformat": 4,
 "nbformat_minor": 4
}
