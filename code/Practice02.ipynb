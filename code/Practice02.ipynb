{
 "cells": [
  {
   "cell_type": "code",
   "execution_count": 1,
   "metadata": {},
   "outputs": [],
   "source": [
    "# OOP编程的特点是什么？多态应用的基础是什么？\n",
    "\n",
    "# 封装、继承、多态\n",
    "# 面向对象编程是为了代码可以得到重用，通过对代码进行分解，最小化冗余代码来定制性地编写程序，\n",
    "# 封装是将一个类的使用和实现分开，只保留部分接口和方法与外部联系\n",
    "# 继承是子类可以使用父类中的属性与方法，同时可以添加属性与重写方法，提高了代码的可重用性\n",
    "# 多态是多个子类中都具有同一个方法，但是由于实例化对象的不同而产生不同的结果，提高了程序的灵活性\n",
    "\n",
    "# 多态基于继承\n",
    "\n",
    "\n",
    "\n",
    "# 抽象类和接口类之间的区别和联系？\n",
    "\n",
    "# 抽象类规定了继承类必须实现的方法，抽象类的方法称为抽象方法，无法实例化，只能被继承后通过子类实例化，\n",
    "# 如果说类是从一堆对象中抽取相同的内容而来的，那么抽象类就是从一堆类中抽取相同的内容而来的，内容包括数据属性和函数属性\n",
    "# 接口只强调函数属性的相似性，抽象类是一个介于类和接口直接的一个概念，同时具备类和接口的部分特性，可以用来实现归一化设计 "
   ]
  },
  {
   "cell_type": "code",
   "execution_count": 2,
   "metadata": {},
   "outputs": [
    {
     "name": "stdout",
     "output_type": "stream",
     "text": [
      "<__main__.ObjectCreator object at 0x7fa05e672b50>\n"
     ]
    }
   ],
   "source": [
    "# 元类\n",
    "class ObjectCreator:\n",
    "    pass\n",
    "\n",
    "my_object = ObjectCreator()\n",
    "print(my_object)"
   ]
  },
  {
   "cell_type": "code",
   "execution_count": 3,
   "metadata": {},
   "outputs": [
    {
     "name": "stdout",
     "output_type": "stream",
     "text": [
      "<__main__.ObjectCreator object at 0x7fa05e672b50>\n"
     ]
    }
   ],
   "source": [
    "def echo(o):\n",
    "    print(o)\n",
    "    \n",
    "echo(my_object)"
   ]
  },
  {
   "cell_type": "code",
   "execution_count": 4,
   "metadata": {},
   "outputs": [
    {
     "name": "stdout",
     "output_type": "stream",
     "text": [
      "False\n"
     ]
    }
   ],
   "source": [
    "print(hasattr(ObjectCreator, 'new_attribute'))"
   ]
  },
  {
   "cell_type": "code",
   "execution_count": 5,
   "metadata": {},
   "outputs": [],
   "source": [
    "ObjectCreator.new_attribute = 'foo'"
   ]
  },
  {
   "cell_type": "code",
   "execution_count": 6,
   "metadata": {},
   "outputs": [
    {
     "name": "stdout",
     "output_type": "stream",
     "text": [
      "True\n"
     ]
    }
   ],
   "source": [
    "print(hasattr(ObjectCreator, 'new_attribute'))"
   ]
  },
  {
   "cell_type": "code",
   "execution_count": 7,
   "metadata": {},
   "outputs": [
    {
     "name": "stdout",
     "output_type": "stream",
     "text": [
      "foo\n"
     ]
    }
   ],
   "source": [
    "print(ObjectCreator.new_attribute)"
   ]
  },
  {
   "cell_type": "code",
   "execution_count": 8,
   "metadata": {},
   "outputs": [
    {
     "name": "stdout",
     "output_type": "stream",
     "text": [
      "<class 'type'>\n"
     ]
    }
   ],
   "source": [
    "print(type(ObjectCreator))"
   ]
  },
  {
   "cell_type": "code",
   "execution_count": 9,
   "metadata": {},
   "outputs": [],
   "source": [
    "class Test:\n",
    "    pass\n"
   ]
  },
  {
   "cell_type": "code",
   "execution_count": 10,
   "metadata": {},
   "outputs": [
    {
     "data": {
      "text/plain": [
       "<__main__.Test at 0x7fa05edb12e0>"
      ]
     },
     "execution_count": 10,
     "metadata": {},
     "output_type": "execute_result"
    }
   ],
   "source": [
    "Test()"
   ]
  },
  {
   "cell_type": "code",
   "execution_count": 20,
   "metadata": {},
   "outputs": [],
   "source": [
    "Test3 = type('牛逼啊老铁', (), {})"
   ]
  },
  {
   "cell_type": "code",
   "execution_count": 22,
   "metadata": {},
   "outputs": [
    {
     "data": {
      "text/plain": [
       "<__main__.牛逼啊老铁 at 0x7fa05e1deee0>"
      ]
     },
     "execution_count": 22,
     "metadata": {},
     "output_type": "execute_result"
    }
   ],
   "source": [
    "Test3()"
   ]
  },
  {
   "cell_type": "code",
   "execution_count": 23,
   "metadata": {},
   "outputs": [
    {
     "name": "stdout",
     "output_type": "stream",
     "text": [
      "Help on class Test in module __main__:\n",
      "\n",
      "class Test(builtins.object)\n",
      " |  Data descriptors defined here:\n",
      " |  \n",
      " |  __dict__\n",
      " |      dictionary for instance variables (if defined)\n",
      " |  \n",
      " |  __weakref__\n",
      " |      list of weak references to the object (if defined)\n",
      "\n"
     ]
    }
   ],
   "source": [
    "help(Test)"
   ]
  },
  {
   "cell_type": "code",
   "execution_count": 24,
   "metadata": {},
   "outputs": [
    {
     "name": "stdout",
     "output_type": "stream",
     "text": [
      "Help on class 牛逼啊老铁 in module __main__:\n",
      "\n",
      "class 牛逼啊老铁(builtins.object)\n",
      " |  Data descriptors defined here:\n",
      " |  \n",
      " |  __dict__\n",
      " |      dictionary for instance variables (if defined)\n",
      " |  \n",
      " |  __weakref__\n",
      " |      list of weak references to the object (if defined)\n",
      "\n"
     ]
    }
   ],
   "source": [
    "help(Test3)"
   ]
  },
  {
   "cell_type": "code",
   "execution_count": 26,
   "metadata": {},
   "outputs": [],
   "source": [
    "Foo = type('Foo', (), {'bar': True})"
   ]
  },
  {
   "cell_type": "code",
   "execution_count": 27,
   "metadata": {},
   "outputs": [
    {
     "name": "stdout",
     "output_type": "stream",
     "text": [
      "<class '__main__.Foo'>\n"
     ]
    }
   ],
   "source": [
    "print(Foo)"
   ]
  },
  {
   "cell_type": "code",
   "execution_count": 28,
   "metadata": {},
   "outputs": [
    {
     "name": "stdout",
     "output_type": "stream",
     "text": [
      "True\n"
     ]
    }
   ],
   "source": [
    "print(Foo.bar)"
   ]
  },
  {
   "cell_type": "code",
   "execution_count": 29,
   "metadata": {},
   "outputs": [],
   "source": [
    "class FooChild(Foo):\n",
    "    pass"
   ]
  },
  {
   "cell_type": "code",
   "execution_count": 30,
   "metadata": {},
   "outputs": [],
   "source": [
    "FooChild = type('FooChild', (Foo,), {})"
   ]
  },
  {
   "cell_type": "code",
   "execution_count": 31,
   "metadata": {},
   "outputs": [
    {
     "name": "stdout",
     "output_type": "stream",
     "text": [
      "<class '__main__.FooChild'>\n"
     ]
    }
   ],
   "source": [
    "print(FooChild)"
   ]
  },
  {
   "cell_type": "code",
   "execution_count": 32,
   "metadata": {},
   "outputs": [
    {
     "name": "stdout",
     "output_type": "stream",
     "text": [
      "True\n"
     ]
    }
   ],
   "source": [
    "print(FooChild.bar)"
   ]
  },
  {
   "cell_type": "code",
   "execution_count": 33,
   "metadata": {},
   "outputs": [],
   "source": [
    "# type的第二个参数，元组中是父类的名字，而不是字符串\n",
    "# 添加的属性是类属性，而不是实例属性"
   ]
  },
  {
   "cell_type": "code",
   "execution_count": 34,
   "metadata": {},
   "outputs": [],
   "source": [
    "def echo_bar(self):\n",
    "    print(self.bar)"
   ]
  },
  {
   "cell_type": "code",
   "execution_count": 35,
   "metadata": {},
   "outputs": [],
   "source": [
    "FooChild = type('FooChild', (Foo,), {'echo_bar': echo_bar})"
   ]
  },
  {
   "cell_type": "code",
   "execution_count": 36,
   "metadata": {},
   "outputs": [
    {
     "data": {
      "text/plain": [
       "False"
      ]
     },
     "execution_count": 36,
     "metadata": {},
     "output_type": "execute_result"
    }
   ],
   "source": [
    "hasattr(Foo, 'echo_bar')"
   ]
  },
  {
   "cell_type": "code",
   "execution_count": 37,
   "metadata": {},
   "outputs": [
    {
     "data": {
      "text/plain": [
       "True"
      ]
     },
     "execution_count": 37,
     "metadata": {},
     "output_type": "execute_result"
    }
   ],
   "source": [
    "hasattr(FooChild, 'echo_bar')"
   ]
  },
  {
   "cell_type": "code",
   "execution_count": 40,
   "metadata": {},
   "outputs": [
    {
     "name": "stdout",
     "output_type": "stream",
     "text": [
      "True\n"
     ]
    }
   ],
   "source": [
    "FooChild().echo_bar()"
   ]
  },
  {
   "cell_type": "code",
   "execution_count": 41,
   "metadata": {},
   "outputs": [],
   "source": [
    "@staticmethod\n",
    "def test_static():\n",
    "    print('static method....')"
   ]
  },
  {
   "cell_type": "code",
   "execution_count": 47,
   "metadata": {},
   "outputs": [],
   "source": [
    "FooChild = type('FooChild', (Foo,), {'echo_bar': echo_bar, 'test_static': test_static})"
   ]
  },
  {
   "cell_type": "code",
   "execution_count": 48,
   "metadata": {},
   "outputs": [],
   "source": [
    "foochild = FooChild()"
   ]
  },
  {
   "cell_type": "code",
   "execution_count": 49,
   "metadata": {},
   "outputs": [
    {
     "name": "stdout",
     "output_type": "stream",
     "text": [
      "static method....\n"
     ]
    }
   ],
   "source": [
    "foochild.test_static()"
   ]
  },
  {
   "cell_type": "code",
   "execution_count": 50,
   "metadata": {},
   "outputs": [
    {
     "name": "stdout",
     "output_type": "stream",
     "text": [
      "True\n"
     ]
    }
   ],
   "source": [
    "foochild.echo_bar()"
   ]
  },
  {
   "cell_type": "code",
   "execution_count": 54,
   "metadata": {},
   "outputs": [],
   "source": [
    "@classmethod\n",
    "def test_class(cls):\n",
    "    print(cls.bar)"
   ]
  },
  {
   "cell_type": "code",
   "execution_count": 55,
   "metadata": {},
   "outputs": [],
   "source": [
    "FooChild = type('FooChild', (Foo,), {'echo_bar': echo_bar, 'test_static': test_static, 'test_class': test_class})"
   ]
  },
  {
   "cell_type": "code",
   "execution_count": 56,
   "metadata": {},
   "outputs": [],
   "source": [
    "foochild = FooChild()"
   ]
  },
  {
   "cell_type": "code",
   "execution_count": 57,
   "metadata": {},
   "outputs": [
    {
     "name": "stdout",
     "output_type": "stream",
     "text": [
      "True\n"
     ]
    }
   ],
   "source": [
    "foochild.test_class()"
   ]
  },
  {
   "cell_type": "code",
   "execution_count": 60,
   "metadata": {},
   "outputs": [],
   "source": [
    "class A(object):\n",
    "    num = 100\n",
    "    \n",
    "    \n",
    "def print_b(self):\n",
    "    print(self.num)\n",
    "    \n",
    "    \n",
    "@staticmethod\n",
    "def print_static():\n",
    "    print('---haha---')\n",
    "\n",
    "\n",
    "@classmethod\n",
    "def print_class(cls):\n",
    "    print(cls.num)\n",
    "    \n",
    "B = type('B', (A,), {'print_b': print_b, 'print_static': print_static, 'print_class': print_class})"
   ]
  },
  {
   "cell_type": "code",
   "execution_count": 62,
   "metadata": {},
   "outputs": [
    {
     "name": "stdout",
     "output_type": "stream",
     "text": [
      "100\n",
      "---haha---\n",
      "100\n"
     ]
    }
   ],
   "source": [
    "b = B()\n",
    "b.print_b()\n",
    "b.print_static()\n",
    "b.print_class()"
   ]
  },
  {
   "cell_type": "code",
   "execution_count": 65,
   "metadata": {},
   "outputs": [],
   "source": [
    "# 自定义元类，用函数的方法，在创建类时，将类属性变量名改为大写\n",
    "def upper_attr(class_name, class_parents, class_attr):\n",
    "    new_attr = {}\n",
    "    for name, value in class_attr.items():\n",
    "        if not name.startswith('__'):\n",
    "            new_attr[name.upper()] = value\n",
    "    return type(class_name, class_parents, new_attr)\n",
    "\n",
    "class Foo(object, metaclass=upper_attr):\n",
    "    bar = 'bip'"
   ]
  },
  {
   "cell_type": "code",
   "execution_count": 66,
   "metadata": {},
   "outputs": [
    {
     "name": "stdout",
     "output_type": "stream",
     "text": [
      "False\n"
     ]
    }
   ],
   "source": [
    "print(hasattr(Foo, 'bar'))"
   ]
  },
  {
   "cell_type": "code",
   "execution_count": 67,
   "metadata": {},
   "outputs": [
    {
     "name": "stdout",
     "output_type": "stream",
     "text": [
      "True\n"
     ]
    }
   ],
   "source": [
    "print(hasattr(Foo, 'BAR'))"
   ]
  },
  {
   "cell_type": "code",
   "execution_count": 69,
   "metadata": {},
   "outputs": [],
   "source": [
    "# 自定义元类，用类的方法，在创建类时，将类属性变量名改为大写\n",
    "class UpperAttrMetaClass(type):\n",
    "    def __new__(cls, class_name, class_parents, class_attr):\n",
    "        new_attr = {}\n",
    "        for name, value in class_attr.items():\n",
    "            if not name.startswith('__'):\n",
    "                new_attr[name.upper()] = value\n",
    "                \n",
    "        # type创建对象\n",
    "        return type(class_name, class_parents, new_attr)\n",
    "        \n",
    "        # 或者type.__new__()复用\n",
    "        # return type.__new__(cls, class_name, class_parents, new_attr)"
   ]
  },
  {
   "cell_type": "code",
   "execution_count": 70,
   "metadata": {},
   "outputs": [],
   "source": [
    "class Foo(object, metaclass=UpperAttrMetaClass):\n",
    "    bar = 'bip'"
   ]
  },
  {
   "cell_type": "code",
   "execution_count": 71,
   "metadata": {},
   "outputs": [],
   "source": [
    "f = Foo()"
   ]
  },
  {
   "cell_type": "code",
   "execution_count": 72,
   "metadata": {},
   "outputs": [
    {
     "name": "stdout",
     "output_type": "stream",
     "text": [
      "'Foo' object has no attribute 'bar'\n"
     ]
    }
   ],
   "source": [
    "try:\n",
    "    print(f.bar)\n",
    "except Exception as e:\n",
    "    print(e)"
   ]
  },
  {
   "cell_type": "code",
   "execution_count": 73,
   "metadata": {},
   "outputs": [
    {
     "name": "stdout",
     "output_type": "stream",
     "text": [
      "bip\n"
     ]
    }
   ],
   "source": [
    "print(f.BAR)"
   ]
  },
  {
   "cell_type": "code",
   "execution_count": 75,
   "metadata": {},
   "outputs": [],
   "source": [
    "# 元类：\n",
    "# 1.拦截类的创建\n",
    "# 2.修改类创建的方法\n",
    "# 3.返回修改后的类"
   ]
  },
  {
   "cell_type": "code",
   "execution_count": 108,
   "metadata": {},
   "outputs": [
    {
     "name": "stdout",
     "output_type": "stream",
     "text": [
      "Found mapping: uid ==> ('uid', 'int unsigned')\n",
      "Found mapping: name ==> ('username', 'varchar(30)')\n",
      "Found mapping: email ==> ('email', 'varchar(30)')\n",
      "Found mapping: password ==> ('password', 'varchar(30)')\n"
     ]
    }
   ],
   "source": [
    "# 通过元类实现ORM中的insert功能--十分重要！！！！！\n",
    "\n",
    "class ModelMetaClass(type):\n",
    "    def __new__(cls, name, bases, attrs):\n",
    "        mappings = dict()\n",
    "        # cls->实例\n",
    "        # name->类名称\n",
    "        # bases—>父类\n",
    "        # attrs->类属性字典\n",
    "        \n",
    "        # 判断是否需要保存\n",
    "        for k, v in attrs.items():\n",
    "            # 判断类属性字典的值类型是否为元组\n",
    "            if isinstance(v, tuple):\n",
    "                print('Found mapping: %s ==> %s' % (k, v))\n",
    "                # 将字段和该字段的约束保存到mappings字典中，一一对应\n",
    "                mappings[k] = v\n",
    "        \n",
    "        # 遍历这个字段，将attrs中已经有的删除掉\n",
    "        for k in mappings.keys():\n",
    "            attrs.pop(k)\n",
    "        \n",
    "        attrs['__mappings__'] = mappings  # 将属性和(字段，字段约束)的映射关系保存起来\n",
    "        attrs['__table__'] = name  # 将表名设置为类名\n",
    "        return type.__new__(cls, name, bases, attrs)  # 返回对象\n",
    "\n",
    "class User(metaclass=ModelMetaClass):\n",
    "    uid = ('uid', 'int unsigned')\n",
    "    name = ('username', 'varchar(30)')\n",
    "    email = ('email', 'varchar(30)')\n",
    "    password = ('password', 'varchar(30)')\n",
    "    \"\"\"\n",
    "    先变成一个类属性字典\n",
    "    attrs = {'uid': ('uid', 'int unsigned'), \n",
    "             'username': ('username', 'varchar(30)'), \n",
    "             'email': ('email', 'varchar(30)'), \n",
    "             'password': ('password', 'varchar(30)')}\n",
    "             \n",
    "    在指定元类后，这些类属性将不在类中，而是保存在__mappings__中变成了\n",
    "    \n",
    "    __mappings__ = {'uid': ('uid', 'int unsigned'), \n",
    "                    'username': ('username', 'varchar(30)'), \n",
    "                    'email': ('email', 'varchar(30)'), \n",
    "                    'password': ('password', 'varchar(30)')}\n",
    "    __table__ = 'User'\n",
    "    \"\"\"\n",
    "    \n",
    "    def __init__(self, **kwargs):\n",
    "        for k, v in kwargs.items():\n",
    "            setattr(self, k, v)\n",
    "    def save(self):\n",
    "        fields = []\n",
    "        args = []\n",
    "        for k, v in self.__mappings__.items():\n",
    "            fields.append(v[0])\n",
    "            args.append(getattr(self, k, None))\n",
    "        sql = 'insert into %s (%s) values (%s)' % (self.__table__, ', '.join(fields), ', '.join([str(i) for i in args]))\n",
    "        print('SQL: %s' % sql)"
   ]
  },
  {
   "cell_type": "code",
   "execution_count": 109,
   "metadata": {},
   "outputs": [],
   "source": [
    "u = User(uid=12345, name='Michael', email='test@qq.com', password='passwd123')"
   ]
  },
  {
   "cell_type": "code",
   "execution_count": 110,
   "metadata": {},
   "outputs": [
    {
     "name": "stdout",
     "output_type": "stream",
     "text": [
      "SQL: insert into User (uid, username, email, password) values (12345, Michael, test@qq.com, passwd123)\n"
     ]
    }
   ],
   "source": [
    "u.save()"
   ]
  },
  {
   "cell_type": "code",
   "execution_count": null,
   "metadata": {},
   "outputs": [],
   "source": [
    "# 完善对数据类型的检测\n"
   ]
  }
 ],
 "metadata": {
  "kernelspec": {
   "display_name": "Python 3",
   "language": "python",
   "name": "python3"
  },
  "language_info": {
   "codemirror_mode": {
    "name": "ipython",
    "version": 3
   },
   "file_extension": ".py",
   "mimetype": "text/x-python",
   "name": "python",
   "nbconvert_exporter": "python",
   "pygments_lexer": "ipython3",
   "version": "3.8.2"
  }
 },
 "nbformat": 4,
 "nbformat_minor": 4
}
